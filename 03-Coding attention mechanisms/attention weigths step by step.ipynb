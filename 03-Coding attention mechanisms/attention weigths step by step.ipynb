{
 "cells": [
  {
   "attachments": {
    "image.png": {
     "image/png": "[encoded data removed]"
    }
   },
   "cell_type": "markdown",
   "metadata": {},
   "source": [
    "![image.png](attachment:image.png)"
   ]
  },
  {
   "cell_type": "code",
   "execution_count": 23,
   "metadata": {},
   "outputs": [
    {
     "data": {
      "text/plain": [
       "<torch._C.Generator at 0x251409ccb10>"
      ]
     },
     "execution_count": 23,
     "metadata": {},
     "output_type": "execute_result"
    }
   ],
   "source": [
    "import torch\n",
    "inputs = torch.tensor(\n",
    "[[0.43, 0.15, 0.89], # Your (x^1)\n",
    "[0.55, 0.87, 0.66], # journey (x^2)\n",
    "[0.57, 0.85, 0.64], # starts (x^3)\n",
    "[0.22, 0.58, 0.33], # with (x^4)\n",
    "[0.77, 0.25, 0.10], # one (x^5)\n",
    "[0.05, 0.80, 0.55]] # step (x^6)\n",
    ")\n",
    "torch.manual_seed(123)"
   ]
  },
  {
   "cell_type": "code",
   "execution_count": 24,
   "metadata": {},
   "outputs": [
    {
     "name": "stdout",
     "output_type": "stream",
     "text": [
      "tensor([[0.3522, 0.3244, 0.4020],\n",
      "        [0.8520, 0.4161, 1.0138],\n",
      "        [0.8415, 0.4229, 0.9978],\n",
      "        [0.5096, 0.1904, 0.6187],\n",
      "        [0.4138, 0.4265, 0.4288],\n",
      "        [0.6408, 0.1414, 0.8070]], grad_fn=<MmBackward0>)\n"
     ]
    }
   ],
   "source": [
    "d_in = inputs.shape[1]\n",
    "d_out = 3 \n",
    "\n",
    "# \n",
    "w_query = torch.nn.Parameter(torch.rand(d_in,d_out)) # theta\n",
    "w_key = torch.nn.Parameter(torch.rand(d_in,d_out))   # phi\n",
    "w_value = torch.nn.Parameter(torch.rand(d_in,d_out))  # g\n",
    "# \n",
    "# matrix multiplication to calculate ( query , key , value )\n",
    "query = inputs @ w_query\n",
    "key = inputs @ w_key\n",
    "value= inputs @ w_value\n",
    "print(query)"
   ]
  },
  {
   "cell_type": "code",
   "execution_count": 25,
   "metadata": {},
   "outputs": [
    {
     "name": "stdout",
     "output_type": "stream",
     "text": [
      "tensor([[0.7616, 0.8765, 0.8746, 0.4349, 0.5941, 0.4877],\n",
      "        [1.7872, 2.0141, 2.0091, 0.9952, 1.3538, 1.1227],\n",
      "        [1.7646, 1.9901, 1.9852, 0.9834, 1.3383, 1.1091],\n",
      "        [1.0664, 1.1947, 1.1916, 0.5897, 0.8004, 0.6667],\n",
      "        [0.8601, 0.9968, 0.9950, 0.4947, 0.6817, 0.5516],\n",
      "        [1.3458, 1.4957, 1.4915, 0.7374, 0.9968, 0.8366]],\n",
      "       grad_fn=<MmBackward0>)\n",
      "torch.Size([6, 6])\n"
     ]
    }
   ],
   "source": [
    "# calculate attention score\n",
    "atten_score = query @ key.T\n",
    "\n",
    "print(atten_score)\n",
    "print(atten_score.shape)"
   ]
  },
  {
   "cell_type": "code",
   "execution_count": 26,
   "metadata": {},
   "outputs": [
    {
     "data": {
      "text/plain": [
       "tensor([[0.1747, 0.1866, 0.1864, 0.1446, 0.1586, 0.1491],\n",
       "        [0.1862, 0.2123, 0.2117, 0.1179, 0.1450, 0.1269],\n",
       "        [0.1859, 0.2118, 0.2112, 0.1184, 0.1454, 0.1273],\n",
       "        [0.1798, 0.1936, 0.1932, 0.1365, 0.1542, 0.1427],\n",
       "        [0.1751, 0.1895, 0.1893, 0.1418, 0.1579, 0.1465],\n",
       "        [0.1837, 0.2003, 0.1998, 0.1293, 0.1501, 0.1369]],\n",
       "       grad_fn=<SoftmaxBackward0>)"
      ]
     },
     "execution_count": 26,
     "metadata": {},
     "output_type": "execute_result"
    }
   ],
   "source": [
    "# calculate attention weight(normaliz attention score) by doing scale by square root \n",
    "d_k = key.shape[-1]\n",
    "atten_weight = torch.softmax(atten_score / d_k ** 0.5, dim=1)\n",
    "atten_weight"
   ]
  },
  {
   "cell_type": "code",
   "execution_count": 27,
   "metadata": {},
   "outputs": [
    {
     "data": {
      "text/plain": [
       "tensor([[0.6692, 1.0276, 1.1106],\n",
       "        [0.6864, 1.0577, 1.1389],\n",
       "        [0.6860, 1.0570, 1.1383],\n",
       "        [0.6738, 1.0361, 1.1180],\n",
       "        [0.6711, 1.0307, 1.1139],\n",
       "        [0.6783, 1.0441, 1.1252]], grad_fn=<MmBackward0>)"
      ]
     },
     "execution_count": 27,
     "metadata": {},
     "output_type": "execute_result"
    }
   ],
   "source": [
    "# calculate context vector by multiplying attention weight by values\n",
    "context_vec = atten_weight @ value\n",
    "context_vec"
   ]
  }
 ],
 "metadata": {
  "kernelspec": {
   "display_name": "Python 3",
   "language": "python",
   "name": "python3"
  },
  "language_info": {
   "codemirror_mode": {
    "name": "ipython",
    "version": 3
   },
   "file_extension": ".py",
   "mimetype": "text/x-python",
   "name": "python",
   "nbconvert_exporter": "python",
   "pygments_lexer": "ipython3",
   "version": "3.10.5"
  }
 },
 "nbformat": 4,
 "nbformat_minor": 2
}
